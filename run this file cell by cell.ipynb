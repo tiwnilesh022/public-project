{
 "cells": [
  {
   "cell_type": "code",
   "execution_count": 2,
   "id": "3b0d0597",
   "metadata": {},
   "outputs": [
    {
     "name": "stdout",
     "output_type": "stream",
     "text": [
      "Collecting seleniumNote: you may need to restart the kernel to use updated packages.\n"
     ]
    },
    {
     "name": "stderr",
     "output_type": "stream",
     "text": [
      "WARNING: Ignoring invalid distribution -pencv-python (c:\\users\\tiwni\\anaconda3\\lib\\site-packages)\n",
      "WARNING: Ignoring invalid distribution -pencv-python (c:\\users\\tiwni\\anaconda3\\lib\\site-packages)\n",
      "WARNING: Ignoring invalid distribution -pencv-python (c:\\users\\tiwni\\anaconda3\\lib\\site-packages)\n",
      "WARNING: Ignoring invalid distribution -pencv-python (c:\\users\\tiwni\\anaconda3\\lib\\site-packages)\n",
      "WARNING: Ignoring invalid distribution -pencv-python (c:\\users\\tiwni\\anaconda3\\lib\\site-packages)\n",
      "WARNING: Ignoring invalid distribution -pencv-python (c:\\users\\tiwni\\anaconda3\\lib\\site-packages)\n",
      "WARNING: Ignoring invalid distribution -pencv-python (c:\\users\\tiwni\\anaconda3\\lib\\site-packages)\n",
      "WARNING: Ignoring invalid distribution -pencv-python (c:\\users\\tiwni\\anaconda3\\lib\\site-packages)\n",
      "WARNING: Ignoring invalid distribution -pencv-python (c:\\users\\tiwni\\anaconda3\\lib\\site-packages)\n",
      "WARNING: Ignoring invalid distribution -pencv-python (c:\\users\\tiwni\\anaconda3\\lib\\site-packages)\n",
      "WARNING: Ignoring invalid distribution -pencv-python (c:\\users\\tiwni\\anaconda3\\lib\\site-packages)\n",
      "WARNING: Ignoring invalid distribution -pencv-python (c:\\users\\tiwni\\anaconda3\\lib\\site-packages)\n"
     ]
    },
    {
     "name": "stdout",
     "output_type": "stream",
     "text": [
      "\n",
      "  Downloading selenium-4.4.3-py3-none-any.whl (985 kB)\n",
      "     -------------------------------------- 986.0/986.0 KB 2.8 MB/s eta 0:00:00\n",
      "Requirement already satisfied: certifi>=2021.10.8 in c:\\users\\tiwni\\anaconda3\\lib\\site-packages (from selenium) (2022.6.15)\n",
      "Collecting trio~=0.17\n",
      "  Downloading trio-0.21.0-py3-none-any.whl (358 kB)\n",
      "     -------------------------------------- 359.0/359.0 KB 2.8 MB/s eta 0:00:00\n",
      "Requirement already satisfied: urllib3[socks]~=1.26 in c:\\users\\tiwni\\anaconda3\\lib\\site-packages (from selenium) (1.26.4)\n",
      "Collecting trio-websocket~=0.9\n",
      "  Downloading trio_websocket-0.9.2-py3-none-any.whl (16 kB)\n",
      "Requirement already satisfied: attrs>=19.2.0 in c:\\users\\tiwni\\anaconda3\\lib\\site-packages (from trio~=0.17->selenium) (20.3.0)\n",
      "Requirement already satisfied: sortedcontainers in c:\\users\\tiwni\\anaconda3\\lib\\site-packages (from trio~=0.17->selenium) (2.3.0)\n",
      "Requirement already satisfied: cffi>=1.14 in c:\\users\\tiwni\\anaconda3\\lib\\site-packages (from trio~=0.17->selenium) (1.14.5)\n",
      "Collecting outcome\n",
      "  Downloading outcome-1.2.0-py2.py3-none-any.whl (9.7 kB)\n",
      "Requirement already satisfied: sniffio in c:\\users\\tiwni\\anaconda3\\lib\\site-packages (from trio~=0.17->selenium) (1.2.0)\n",
      "Requirement already satisfied: async-generator>=1.9 in c:\\users\\tiwni\\anaconda3\\lib\\site-packages (from trio~=0.17->selenium) (1.10)\n",
      "Requirement already satisfied: idna in c:\\users\\tiwni\\anaconda3\\lib\\site-packages (from trio~=0.17->selenium) (2.10)\n",
      "Collecting wsproto>=0.14\n",
      "  Downloading wsproto-1.2.0-py3-none-any.whl (24 kB)\n",
      "Requirement already satisfied: PySocks!=1.5.7,<2.0,>=1.5.6 in c:\\users\\tiwni\\anaconda3\\lib\\site-packages (from urllib3[socks]~=1.26->selenium) (1.7.1)\n",
      "Requirement already satisfied: pycparser in c:\\users\\tiwni\\anaconda3\\lib\\site-packages (from cffi>=1.14->trio~=0.17->selenium) (2.20)\n",
      "Collecting h11<1,>=0.9.0\n",
      "  Downloading h11-0.13.0-py3-none-any.whl (58 kB)\n",
      "     ---------------------------------------- 58.2/58.2 KB 3.0 MB/s eta 0:00:00\n",
      "Installing collected packages: outcome, h11, wsproto, trio, trio-websocket, selenium\n",
      "Successfully installed h11-0.13.0 outcome-1.2.0 selenium-4.4.3 trio-0.21.0 trio-websocket-0.9.2 wsproto-1.2.0\n"
     ]
    }
   ],
   "source": [
    "pip install  selenium"
   ]
  },
  {
   "cell_type": "code",
   "execution_count": 3,
   "id": "7bac3016",
   "metadata": {},
   "outputs": [
    {
     "name": "stdout",
     "output_type": "stream",
     "text": [
      "Requirement already satisfied: pandas in c:\\users\\tiwni\\anaconda3\\lib\\site-packages (1.2.4)\n",
      "Requirement already satisfied: python-dateutil>=2.7.3 in c:\\users\\tiwni\\anaconda3\\lib\\site-packages (from pandas) (2.8.1)\n",
      "Requirement already satisfied: pytz>=2017.3 in c:\\users\\tiwni\\anaconda3\\lib\\site-packages (from pandas) (2020.1)\n",
      "Requirement already satisfied: numpy>=1.16.5 in c:\\users\\tiwni\\anaconda3\\lib\\site-packages (from pandas) (1.20.1)\n",
      "Requirement already satisfied: six>=1.5 in c:\\users\\tiwni\\anaconda3\\lib\\site-packages (from python-dateutil>=2.7.3->pandas) (1.15.0)\n",
      "Note: you may need to restart the kernel to use updated packages.\n"
     ]
    },
    {
     "name": "stderr",
     "output_type": "stream",
     "text": [
      "WARNING: Ignoring invalid distribution -pencv-python (c:\\users\\tiwni\\anaconda3\\lib\\site-packages)\n",
      "WARNING: Ignoring invalid distribution -pencv-python (c:\\users\\tiwni\\anaconda3\\lib\\site-packages)\n",
      "WARNING: Ignoring invalid distribution -pencv-python (c:\\users\\tiwni\\anaconda3\\lib\\site-packages)\n",
      "WARNING: Ignoring invalid distribution -pencv-python (c:\\users\\tiwni\\anaconda3\\lib\\site-packages)\n",
      "WARNING: Ignoring invalid distribution -pencv-python (c:\\users\\tiwni\\anaconda3\\lib\\site-packages)\n",
      "WARNING: Ignoring invalid distribution -pencv-python (c:\\users\\tiwni\\anaconda3\\lib\\site-packages)\n"
     ]
    }
   ],
   "source": [
    "pip install pandas"
   ]
  },
  {
   "cell_type": "code",
   "execution_count": 1,
   "id": "648c5812",
   "metadata": {},
   "outputs": [
    {
     "name": "stdout",
     "output_type": "stream",
     "text": [
      "Collecting bs4\n",
      "  Downloading bs4-0.0.1.tar.gz (1.1 kB)\n",
      "  Preparing metadata (setup.py): started\n",
      "  Preparing metadata (setup.py): finished with status 'done'\n",
      "Requirement already satisfied: beautifulsoup4 in c:\\users\\tiwni\\anaconda3\\lib\\site-packages (from bs4) (4.9.3)\n",
      "Requirement already satisfied: soupsieve>1.2 in c:\\users\\tiwni\\anaconda3\\lib\\site-packages (from beautifulsoup4->bs4) (2.2.1)\n",
      "Building wheels for collected packages: bs4\n",
      "  Building wheel for bs4 (setup.py): started\n",
      "  Building wheel for bs4 (setup.py): finished with status 'done'\n",
      "  Created wheel for bs4: filename=bs4-0.0.1-py3-none-any.whl size=1273 sha256=8f0545fc2fa009985922058f13aa15611ec3cb2dc7f0747e11267e17e4bf9965\n",
      "  Stored in directory: c:\\users\\tiwni\\appdata\\local\\pip\\cache\\wheels\\75\\78\\21\\68b124549c9bdc94f822c02fb9aa3578a669843f9767776bca\n",
      "Successfully built bs4\n",
      "Installing collected packages: bs4\n",
      "Successfully installed bs4-0.0.1\n",
      "Note: you may need to restart the kernel to use updated packages.\n"
     ]
    },
    {
     "name": "stderr",
     "output_type": "stream",
     "text": [
      "WARNING: Ignoring invalid distribution -pencv-python (c:\\users\\tiwni\\anaconda3\\lib\\site-packages)\n",
      "WARNING: Ignoring invalid distribution -pencv-python (c:\\users\\tiwni\\anaconda3\\lib\\site-packages)\n",
      "WARNING: Ignoring invalid distribution -pencv-python (c:\\users\\tiwni\\anaconda3\\lib\\site-packages)\n",
      "WARNING: Ignoring invalid distribution -pencv-python (c:\\users\\tiwni\\anaconda3\\lib\\site-packages)\n",
      "WARNING: Ignoring invalid distribution -pencv-python (c:\\users\\tiwni\\anaconda3\\lib\\site-packages)\n",
      "WARNING: Ignoring invalid distribution -pencv-python (c:\\users\\tiwni\\anaconda3\\lib\\site-packages)\n",
      "WARNING: Ignoring invalid distribution -pencv-python (c:\\users\\tiwni\\anaconda3\\lib\\site-packages)\n"
     ]
    }
   ],
   "source": [
    "pip install bs4"
   ]
  },
  {
   "cell_type": "code",
   "execution_count": 4,
   "id": "3c1109be",
   "metadata": {},
   "outputs": [
    {
     "name": "stdout",
     "output_type": "stream",
     "text": [
      "Requirement already satisfied: numpy in c:\\users\\tiwni\\anaconda3\\lib\\site-packages (1.20.1)\n",
      "Note: you may need to restart the kernel to use updated packages.\n"
     ]
    },
    {
     "name": "stderr",
     "output_type": "stream",
     "text": [
      "WARNING: Ignoring invalid distribution -pencv-python (c:\\users\\tiwni\\anaconda3\\lib\\site-packages)\n",
      "WARNING: Ignoring invalid distribution -pencv-python (c:\\users\\tiwni\\anaconda3\\lib\\site-packages)\n",
      "WARNING: Ignoring invalid distribution -pencv-python (c:\\users\\tiwni\\anaconda3\\lib\\site-packages)\n",
      "WARNING: Ignoring invalid distribution -pencv-python (c:\\users\\tiwni\\anaconda3\\lib\\site-packages)\n",
      "WARNING: Ignoring invalid distribution -pencv-python (c:\\users\\tiwni\\anaconda3\\lib\\site-packages)\n",
      "WARNING: Ignoring invalid distribution -pencv-python (c:\\users\\tiwni\\anaconda3\\lib\\site-packages)\n"
     ]
    }
   ],
   "source": [
    "pip install numpy"
   ]
  },
  {
   "cell_type": "code",
   "execution_count": 7,
   "id": "2acdf66c",
   "metadata": {},
   "outputs": [
    {
     "name": "stderr",
     "output_type": "stream",
     "text": [
      "<ipython-input-7-b03b7ea76106>:15: DeprecationWarning: executable_path has been deprecated, please pass in a Service object\n",
      "  driver = webdriver.Chrome(executable_path=\"chromedriver.exe\", chrome_options=options)  # Instantiating the chromedriver\n",
      "<ipython-input-7-b03b7ea76106>:15: DeprecationWarning: use options instead of chrome_options\n",
      "  driver = webdriver.Chrome(executable_path=\"chromedriver.exe\", chrome_options=options)  # Instantiating the chromedriver\n"
     ]
    }
   ],
   "source": [
    "#  Importing required modules\n",
    "\n",
    "from selenium import webdriver\n",
    "from bs4 import BeautifulSoup\n",
    "import time\n",
    "import pandas as pd\n",
    "from selenium.webdriver.chrome.options import Options\n",
    "\n",
    "'''Here we have initialized the chrome Options and we are using it in headless mode,i.e. the window of chrome will \n",
    "not popup\n",
    "'''\n",
    "options = Options()\n",
    "options.add_argument('--headless')  # configuring chrome to run in headless mode\n",
    "options.add_argument('--disable-gpu')  # disabling the gpu acceleration\n",
    "driver = webdriver.Chrome(executable_path=\"chromedriver.exe\", chrome_options=options)  # Instantiating the chromedriver\n",
    "\n"
   ]
  },
  {
   "cell_type": "code",
   "execution_count": 10,
   "id": "8f19e928",
   "metadata": {},
   "outputs": [],
   "source": [
    "number = int(\n",
    "    input(\"Enter how many IP Addresses you want to search: \"))  # taking input from the user of number of IPs to search\n",
    "IPs = []  # Empty list of IPs\n"
   ]
  },
  {
   "cell_type": "code",
   "execution_count": null,
   "id": "f547983a",
   "metadata": {},
   "outputs": [],
   "source": [
    "#  Taking input from the user \"number\" times\n",
    "for i in range(number):\n",
    "    IPs.append(input(\"Enter the IP Address: \"))\n",
    "\n",
    "ips = \",\".join(str(e) for e in\n",
    "               IPs)  # separating each IP address taken from the user with \" ,\" so that it can be passed to the URL.\n",
    "url = f\"https://www.maxmind.com/en/geoip2-precision-demo?ip_address={ips}\"  # Base url for GEO IP search\n",
    "driver.get(url)  # requesting the driver to open the url\n",
    "time.sleep(5)  # putting the code to halt for 5 seconds for the table data to be loaded\n",
    "soup = BeautifulSoup(driver.page_source, 'html.parser')  # Instantiating the Beautiful Soup object in a vairable\n",
    "# called \"soup\"."
   ]
  },
  {
   "cell_type": "code",
   "execution_count": null,
   "id": "d9a64c8d",
   "metadata": {},
   "outputs": [],
   "source": [
    "table = soup.find(\"table\")  # Finding all the tables and storing them in \"table\"\n",
    "rows = table.findAll('tr')  # Finding all the rows\n",
    "table_headings = table.findAll('th')  # Finding all the Table headers\n"
   ]
  },
  {
   "cell_type": "code",
   "execution_count": null,
   "id": "41ab3b4e",
   "metadata": {},
   "outputs": [],
   "source": [
    "'''The basic concept used here is that after our data loads we get the source code of the page and pass it to the \n",
    "BeautifulSoup Class so that we can find what we're looking for, here we are seeking the table data.\n",
    "For each of the column we have defined 11 lists in which the values of their fields will be entered.\n",
    "\n",
    "'''\n",
    "\n",
    "\n",
    "\n",
    "IP_Address = []\n",
    "Country_Code = []\n",
    "Location = []\n",
    "Network = []\n",
    "Postal_Code = []\n",
    "Approximate_Coordinates = []\n",
    "Accuracy_Radius_km = []\n",
    "ISP = []\n",
    "Organization = []\n",
    "Domain = []\n",
    "Metro_Code = []\n",
    "helloo = []"
   ]
  },
  {
   "cell_type": "code",
   "execution_count": null,
   "id": "fb1e32fe",
   "metadata": {},
   "outputs": [],
   "source": [
    "data = [[td.findChildren(text=True) for td in tr.findAll(\"td\")] for tr in rows]  # Credit - StackOverflow, Finding\n",
    "#  all the table data to and then storing them as a list corresponding to each IP address"
   ]
  },
  {
   "cell_type": "code",
   "execution_count": null,
   "id": "3ca9eda9",
   "metadata": {},
   "outputs": [],
   "source": [
    "# Here we have applied a loop for assigning the table columns values to their corresponding lists so that they can be\n",
    "# used further in making the dataframe with the help of pandas.\n",
    "\n",
    "for i in data:  # This loop iterates through the list of all IP search details which is a list\n",
    "    try:\n",
    "        # The 'k' loop is for assigning appropriate values extracted from the table data to the lists that have been\n",
    "        # defined above, for example upon observing the data variables' contents we find that IP is at the first index,\n",
    "        # so, we append the first element (IP) in the IP_Address list, same goes for all the lists.\n",
    "\n",
    "        for k in range(12):\n",
    "            if k == 0:\n",
    "                IP_Address.append(i[k][0])\n",
    "            if k == 1:\n",
    "                Country_Code.append(i[k][0])\n",
    "            if k == 2:\n",
    "                Location.append(i[k][0])\n",
    "            if k == 3:\n",
    "                Network.append(i[k][0])\n",
    "            if k == 4:\n",
    "                if i[k]:\n",
    "                    Postal_Code.append(i[k][0])\n",
    "                else:\n",
    "                    Postal_Code.append(\"-\")\n",
    "            if k == 5:\n",
    "                Approximate_Coordinates.append(f\"{i[k][0]} {i[k][1]}\")\n",
    "            if k == 6:\n",
    "                Accuracy_Radius_km.append(i[k][0])\n",
    "            if k == 7:\n",
    "                ISP.append(i[k][0])\n",
    "            if k == 8:\n",
    "                Organization.append(i[k][0])\n",
    "            if k == 9:\n",
    "                # print(i[k])\n",
    "                if i[k]:\n",
    "                    Domain.append(i[k][0])\n",
    "                    # print(Domain)\n",
    "                else:\n",
    "                    Domain.append('-')\n",
    "            if k == 10:\n",
    "                if i[k]:\n",
    "                    Metro_Code.append(i[k][0])\n",
    "                else:\n",
    "                    Metro_Code.append('-')\n",
    "\n",
    "    except IndexError as e:\n",
    "        pass\n"
   ]
  },
  {
   "cell_type": "code",
   "execution_count": null,
   "id": "71e1e5fe",
   "metadata": {},
   "outputs": [],
   "source": [
    "'''Lists are being converted in to Pandas Series here because they are compatible with the Dataframe object of Pandas \n",
    "module '''\n",
    "\n",
    "s0 = pd.Series(IP_Address, name=\"IP_Address\")   # Here we have converted the IP_Address list into a Pandas Series so\n",
    "# that the Pandas module can infer these lists and make a dataframe, same goes for all the successive series\n"
   ]
  },
  {
   "cell_type": "code",
   "execution_count": null,
   "id": "a824bacb",
   "metadata": {},
   "outputs": [],
   "source": [
    "s1 = pd.Series(Country_Code, name=\"Country_Code\")\n",
    "s2 = pd.Series(Location, name=\"Location\")\n",
    "s3 = pd.Series(Network, name=\"Network\")\n",
    "s4 = pd.Series(Postal_Code, name=\"Postal_Code\")\n",
    "s5 = pd.Series(Approximate_Coordinates, name=\"Approximate_Coordinates\")\n",
    "s6 = pd.Series(Accuracy_Radius_km, name=\"Accuracy_Radius_km\")\n",
    "s7 = pd.Series(ISP, name=\"ISP\")\n",
    "s8 = pd.Series(Organization, name=\"Organization\")\n",
    "s9 = pd.Series(Domain, name=\"Domain\", dtype=str)\n",
    "s10 = pd.Series(Metro_Code, name=\"Metro_Code\", dtype=str)"
   ]
  },
  {
   "cell_type": "code",
   "execution_count": null,
   "id": "ede6c79a",
   "metadata": {},
   "outputs": [],
   "source": [
    "df = pd.concat([s0, s1, s2, s3, s4, s5, s6, s7, s8, s9, s10], axis=1)  # Joining all series to get the ultimate\n",
    "# desired dataframe\n"
   ]
  },
  {
   "cell_type": "code",
   "execution_count": null,
   "id": "46302883",
   "metadata": {},
   "outputs": [],
   "source": [
    "df.to_csv('IP_INFO.csv', index=False, encoding='utf-8')  # Converting the dataframe into csv for better data inference.\n",
    "print(\"The file has been written as IP_INFO.csv\")"
   ]
  }
 ],
 "metadata": {
  "kernelspec": {
   "display_name": "Python 3.8.8 ('base')",
   "language": "python",
   "name": "python3"
  },
  "language_info": {
   "codemirror_mode": {
    "name": "ipython",
    "version": 3
   },
   "file_extension": ".py",
   "mimetype": "text/x-python",
   "name": "python",
   "nbconvert_exporter": "python",
   "pygments_lexer": "ipython3",
   "version": "3.8.8"
  },
  "vscode": {
   "interpreter": {
    "hash": "9d1e620a48bfdaf5af5a3963f59de59365b5c5d02b8895fd17fd7a031dbaaa0f"
   }
  }
 },
 "nbformat": 4,
 "nbformat_minor": 5
}
