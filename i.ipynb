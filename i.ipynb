{
 "cells": [
  {
   "cell_type": "code",
   "execution_count": 1,
   "metadata": {},
   "outputs": [],
   "source": [
    "import pandas as pd\n",
    "import numpy as np\n",
    "import sys\n",
    "import numpy as np\n",
    "import math"
   ]
  },
  {
   "cell_type": "code",
   "execution_count": 2,
   "metadata": {},
   "outputs": [],
   "source": [
    "loc_count = 8\n",
    "veh_count = 8\n",
    "maxDep = 2\n",
    "\n",
    "class Vehicles():\n",
    " \n",
    "    def __init__(self, quantity):\n",
    "        self.V = quantity\n",
    "        self.stats = [[0 for column in range(7)]\n",
    "                      for row in range(quantity)]\n",
    "        self.route_all = [[0 for column in range(1)]\n",
    "                      for row in range(quantity)]\n",
    "        self.route_dist_all = [[0 for column in range(1)]\n",
    "                      for row in range(quantity)]\n",
    "        self.route = [[0 for column in range(1)]\n",
    "                      for row in range(quantity)]\n",
    "        self.route_dist = [[0 for column in range(1)]\n",
    "                      for row in range(quantity)]"
   ]
  },
  {
   "cell_type": "code",
   "execution_count": 3,
   "metadata": {},
   "outputs": [],
   "source": [
    "ev = Vehicles(veh_count)\n",
    "q = np.genfromtxt(\"EV.csv\", delimiter=',')\n",
    "q = q.tolist()\n",
    "ev.stats = q\n",
    "\n",
    "r = np.genfromtxt(\"Nodes.csv\", delimiter=',')\n",
    "r = r.tolist()\n",
    "r[0][0] = 0"
   ]
  },
  {
   "cell_type": "code",
   "execution_count": 4,
   "metadata": {},
   "outputs": [],
   "source": [
    "from collections import defaultdict\n",
    "   \n",
    "class Graph2:\n",
    "   \n",
    "    def __init__(self, vertices):\n",
    "        self.V = vertices \n",
    "\n",
    "        self.graph = defaultdict(list) \n",
    "   \n",
    "    def addEdge(self, u, v):\n",
    "        self.graph[u].append(v)\n",
    "   \n",
    "    \n",
    "    def printAllPathsUtil(self, u, d, visited, path, id):\n",
    "  \n",
    "        visited[u]= True\n",
    "        path.append(u)\n",
    "        \n",
    "        # current path[] is below\n",
    "        if u == d:\n",
    "            path2 = path.copy()\n",
    "            dist =0\n",
    "            for i in range(len(path2)-1) :\n",
    "              dist = dist + r[path2[i]][path2[i+1]]\n",
    "            \n",
    "            #For all possible paths\n",
    "            if ev.route_dist_all[id][0] == 0:\n",
    "              ev.route_dist_all[id][0] = dist\n",
    "              ev.route_all[id][0] = path2\n",
    "            else :\n",
    "              ev.route_dist_all[id].append(dist)\n",
    "              ev.route_all[id].append(path2)\n",
    "            \n",
    "           \n",
    "\n",
    "        else:\n",
    "            for i in self.graph[u]:\n",
    "                if visited[i]== False and r[u][i] < 100 * ev.stats[id][4]:\n",
    "                    self.printAllPathsUtil(i, d, visited, path, id)\n",
    "                      \n",
    "        path.pop()\n",
    "        visited[u]= False\n",
    "   \n",
    "    def printAllPaths(self, s, d, id):\n",
    "  \n",
    "        visited =[False]*(self.V)\n",
    "\n",
    "        path = []\n",
    "  \n",
    "        self.printAllPathsUtil(s, d, visited, path, id)"
   ]
  },
  {
   "cell_type": "code",
   "execution_count": 5,
   "metadata": {},
   "outputs": [],
   "source": [
    "no_Car = 0\n",
    "for i in range(veh_count):\n",
    "    if ev.stats[i][4] == 0:\n",
    "        no_Car = no_Car + 1"
   ]
  },
  {
   "cell_type": "code",
   "execution_count": 7,
   "metadata": {},
   "outputs": [],
   "source": [
    "t = Graph2(loc_count)\n",
    "for i in range(loc_count):\n",
    "    for j in range(loc_count) :\n",
    "        if r[i][j] < 1000 :\n",
    "            t.addEdge(i,j)\n",
    "\n",
    "for id in range(no_Car) :\n",
    "    t.printAllPaths(int(ev.stats[id][0]-1),int(ev.stats[id][1]-1),id)"
   ]
  },
  {
   "cell_type": "code",
   "execution_count": 6,
   "metadata": {},
   "outputs": [
    {
     "name": "stdout",
     "output_type": "stream",
     "text": [
      "[[0], [0], [0], [0], [0], [0], [0], [0]]\n"
     ]
    }
   ],
   "source": [
    "print(ev.route_dist_all)"
   ]
  },
  {
   "cell_type": "code",
   "execution_count": 7,
   "metadata": {},
   "outputs": [],
   "source": [
    "for id in range(veh_count) :\n",
    "    sort_arg = np.argsort(ev.route_dist_all[id])\n",
    "    for j in range(min(maxDep,len(ev.route_all[id]))) :\n",
    "        n = sort_arg[j]\n",
    "    if ev.route_dist[id][0] == 0:\n",
    "        ev.route_dist[id][0] = ev.route_dist_all[id][n]\n",
    "        ev.route[id][0] = ev.route_all[id][n]\n",
    "    else :\n",
    "        ev.route_dist[id].append(ev.route_dist_all[id][n])\n",
    "        ev.route[id].append(ev.route_all[id][n])"
   ]
  },
  {
   "cell_type": "code",
   "execution_count": 8,
   "metadata": {},
   "outputs": [
    {
     "data": {
      "text/plain": [
       "[[0], [0], [0], [0], [0], [0], [0], [0]]"
      ]
     },
     "execution_count": 8,
     "metadata": {},
     "output_type": "execute_result"
    }
   ],
   "source": [
    "ev.route_dist"
   ]
  },
  {
   "cell_type": "code",
   "execution_count": 9,
   "metadata": {},
   "outputs": [],
   "source": [
    "batc = np.zeros((loc_count,veh_count), dtype=int)\n",
    "battery_needed = [0.]*veh_count\n",
    "path = []\n",
    "current_battery = [0]*veh_count\n",
    "visited = [[-1 for column in range(1)]\n",
    "                     for row in range(loc_count)]"
   ]
  },
  {
   "cell_type": "code",
   "execution_count": 10,
   "metadata": {},
   "outputs": [],
   "source": [
    "#Assuming one path below\n",
    "for id in range(no_Car):\n",
    "    path.append(ev.route[id][0])\n",
    "    battery_needed[id] = max(0,math.ceil(ev.route_dist[id][0]/ev.stats[id][4] - ev.stats[id][2]))\n",
    "    current_battery[id] = int(ev.stats[id][2])\n",
    "\n",
    "\n",
    "\n",
    "path_optimal = []\n",
    "batc_optimal = np.zeros((veh_count,loc_count), dtype=int)\n",
    "time_optimal = [[0 for column in range(1)]\n",
    "                for row in range(veh_count)]\n",
    "minimum_time_achieved = sys.maxsize\n",
    "charge_start_time = [[-1 for column in range(loc_count)]\n",
    "                      for row in range(veh_count)]\n",
    "charge_end_time = [[-1 for column in range(loc_count)]\n",
    "                    for row in range(veh_count)]"
   ]
  },
  {
   "cell_type": "code",
   "execution_count": 11,
   "metadata": {},
   "outputs": [],
   "source": [
    "\n",
    "time = [[0 for column in range(1)]\n",
    "          for row in range(veh_count)]\n",
    "charging_start_time = [[-1 for column in range(loc_count)]\n",
    "                         for row in range(veh_count)]\n",
    "charging_end_time = [[-1 for column in range(loc_count)]\n",
    "                         for row in range(veh_count)]"
   ]
  },
  {
   "cell_type": "code",
   "execution_count": 12,
   "metadata": {},
   "outputs": [
    {
     "data": {
      "text/plain": [
       "[]"
      ]
     },
     "execution_count": 12,
     "metadata": {},
     "output_type": "execute_result"
    }
   ],
   "source": [
    "path"
   ]
  },
  {
   "cell_type": "code",
   "execution_count": 13,
   "metadata": {},
   "outputs": [],
   "source": [
    "def final_time (batc,path) :\n",
    "\n",
    "    time = [[0 for column in range(1)]\n",
    "          for row in range(veh_count)]\n",
    "    charging_start_time = [[-1 for column in range(loc_count)]\n",
    "                         for row in range(veh_count)]\n",
    "    charging_end_time = [[-1 for column in range(loc_count)]\n",
    "                         for row in range(veh_count)]\n",
    "\n",
    "for id in range(veh_count) :\n",
    "    if path == []:\n",
    "        break\n",
    "    for j in range(len(path[id])) :\n",
    "        if j==0:\n",
    "            time[id][0] = 0\n",
    "    else :\n",
    "        time[id][0] = 1\n",
    "instances = [0]*loc_count\n",
    "vehicle_at_instance = [[-1 for column in range(1)]\n",
    "                     for row in range(loc_count)]\n",
    "for i in range(loc_count):\n",
    "    for j in range(veh_count):\n",
    "        if batc[j][i] > 0 :\n",
    "            instances[i] += 1\n",
    "        if vehicle_at_instance[i][0] == -1:\n",
    "            vehicle_at_instance[i][0] = j\n",
    "        else:\n",
    "            vehicle_at_instance[i].append(j)\n"
   ]
  },
  {
   "cell_type": "code",
   "execution_count": 14,
   "metadata": {},
   "outputs": [],
   "source": [
    "car_instances = [0]*veh_count\n",
    "for i in range(veh_count):\n",
    "    for j in range(loc_count):\n",
    "        if batc[i][j] > 0 :\n",
    "            car_instances[i] += 1"
   ]
  },
  {
   "cell_type": "code",
   "execution_count": 15,
   "metadata": {},
   "outputs": [
    {
     "name": "stdout",
     "output_type": "stream",
     "text": [
      "instances [0, 0, 0, 0, 0, 0, 0, 0]\n",
      "car_instances [0, 0, 0, 0, 0, 0, 0, 0]\n"
     ]
    }
   ],
   "source": [
    "print(\"instances\",instances)\n",
    "print(\"car_instances\",car_instances)"
   ]
  },
  {
   "cell_type": "code",
   "execution_count": 21,
   "metadata": {},
   "outputs": [
    {
     "name": "stdout",
     "output_type": "stream",
     "text": [
      "cost [0, 0, 0, 0, 0, 0, 0, 0]\n"
     ]
    }
   ],
   "source": [
    "cost = [0]*veh_count\n",
    "for id in range(veh_count):\n",
    "    for i in range(len(path)):\n",
    "        cost[id] = cost[id] + r[path[id][i]][path[id][i+1]]\n",
    "\n",
    "print(\"cost\",cost)"
   ]
  },
  {
   "cell_type": "code",
   "execution_count": 23,
   "metadata": {},
   "outputs": [
    {
     "name": "stdout",
     "output_type": "stream",
     "text": [
      "batc [[0 0 0 0 0 0 0 0]\n",
      " [0 0 0 0 0 0 0 0]\n",
      " [0 0 0 0 0 0 0 0]\n",
      " [0 0 0 0 0 0 0 0]\n",
      " [0 0 0 0 0 0 0 0]\n",
      " [0 0 0 0 0 0 0 0]\n",
      " [0 0 0 0 0 0 0 0]\n",
      " [0 0 0 0 0 0 0 0]]\n"
     ]
    }
   ],
   "source": [
    "for id in range(veh_count):\n",
    "    if cost[id] < ev.stats[id][2]:\n",
    "        for i in range(len(path)-1):\n",
    "            batc[id][path[id][i+1]] = batc[id][path[id][i]] - r[path[id][i]][path[id][i+1]]\n",
    "    else:\n",
    "        for i in range(len(path[id])-1):\n",
    "            batc[id][path[id][i+1]] = batc[id][path[id][i]] - r[path[id][i]][path[id][i+1]]\n",
    "        batc[id][path[id][i+1]] = batc[id][path[id][i+1]] - (cost[id] - ev.stats[id][2])\n",
    "\n",
    "print(\"batc\",batc)"
   ]
  },
  {
   "cell_type": "code",
   "execution_count": null,
   "metadata": {},
   "outputs": [],
   "source": []
  }
 ],
 "metadata": {
  "kernelspec": {
   "display_name": "Python 3.10.5 64-bit",
   "language": "python",
   "name": "python3"
  },
  "language_info": {
   "codemirror_mode": {
    "name": "ipython",
    "version": 3
   },
   "file_extension": ".py",
   "mimetype": "text/x-python",
   "name": "python",
   "nbconvert_exporter": "python",
   "pygments_lexer": "ipython3",
   "version": "3.10.5"
  },
  "orig_nbformat": 4,
  "vscode": {
   "interpreter": {
    "hash": "369f2c481f4da34e4445cda3fffd2e751bd1c4d706f27375911949ba6bb62e1c"
   }
  }
 },
 "nbformat": 4,
 "nbformat_minor": 2
}
